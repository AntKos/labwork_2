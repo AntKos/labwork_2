{
 "cells": [
  {
   "cell_type": "code",
   "execution_count": 1,
   "metadata": {
    "collapsed": false
   },
   "outputs": [],
   "source": [
    "import numpy as np\n",
    "import matplotlib.pyplot as plt\n",
    "from math import sqrt\n",
    "from math import fabs\n",
    "from math import log\n",
    "from math import exp\n",
    "from scipy import stats\n",
    "from IPython.display import Math"
   ]
  },
  {
   "cell_type": "code",
   "execution_count": 2,
   "metadata": {
    "collapsed": false
   },
   "outputs": [],
   "source": [
    "#выборка-выборочка, 30 элементов\n",
    "def inputs():\n",
    "    return np.array([378.2, 378.5, 378, 377.5, 378, 377.9, 378.1,\\\n",
    "           378.3, 377.9, 377.8, 378.2, 377.8, 378.4, 378.1,\\\n",
    "           378.2, 378, 378.1, 377.8, 377.9, 377.8, 378.1, 378,\\\n",
    "           378.2, 378.1, 378.3, 378.2, 378, 377.9, 378, 378.1])"
   ]
  },
  {
   "cell_type": "markdown",
   "metadata": {},
   "source": [
    "Тут у нас лежит наша выборка $t_{w,i}$"
   ]
  },
  {
   "cell_type": "code",
   "execution_count": 3,
   "metadata": {
    "collapsed": false
   },
   "outputs": [
    {
     "name": "stdout",
     "output_type": "stream",
     "text": [
      "[ 378.2  378.5  378.   377.5  378.   377.9  378.1  378.3  377.9  377.8\n",
      "  378.2  377.8  378.4  378.1  378.2  378.   378.1  377.8  377.9  377.8\n",
      "  378.1  378.   378.2  378.1  378.3  378.2  378.   377.9  378.   378.1]\n"
     ]
    }
   ],
   "source": [
    "tw = inputs()\n",
    "#Math('t_{w,i}=')\n",
    "print tw"
   ]
  },
  {
   "cell_type": "markdown",
   "metadata": {},
   "source": [
    "Ниже - приблизительное распределение частот"
   ]
  },
  {
   "cell_type": "code",
   "execution_count": 4,
   "metadata": {
    "collapsed": false
   },
   "outputs": [
    {
     "data": {
      "image/png": "[encoded data removed]",
      "text/plain": [
       "<matplotlib.figure.Figure at 0x7f4ced4f9e50>"
      ]
     },
     "metadata": {},
     "output_type": "display_data"
    }
   ],
   "source": [
    "%matplotlib inline\n",
    "plt.hist(tw, bins=len(tw));"
   ]
  },
  {
   "cell_type": "markdown",
   "metadata": {},
   "source": [
    "mean() будет считать среднее арифметическое $\\overline{t_w}$"
   ]
  },
  {
   "cell_type": "code",
   "execution_count": 5,
   "metadata": {
    "collapsed": true
   },
   "outputs": [],
   "source": [
    "def mean(input):\n",
    "    n = len(input)\n",
    "    return sum(input) / n"
   ]
  },
  {
   "cell_type": "markdown",
   "metadata": {},
   "source": [
    "А вот и оно"
   ]
  },
  {
   "cell_type": "code",
   "execution_count": 6,
   "metadata": {
    "collapsed": false
   },
   "outputs": [
    {
     "name": "stdout",
     "output_type": "stream",
     "text": [
      "среднее=378.046666667\n"
     ]
    }
   ],
   "source": [
    "print('среднее={0}'.format(mean(tw)))"
   ]
  },
  {
   "cell_type": "markdown",
   "metadata": {},
   "source": [
    "Теперь введем функцию для среднего квадратического отклонения ${\\sigma}_{t_w}$, а потом посчитаем и его:"
   ]
  },
  {
   "cell_type": "code",
   "execution_count": 7,
   "metadata": {
    "collapsed": false
   },
   "outputs": [
    {
     "name": "stdout",
     "output_type": "stream",
     "text": [
      "n=30\n",
      "среднеквадратическое = 0.206336406491\n"
     ]
    }
   ],
   "source": [
    "def squared_mean(input):\n",
    "    mean_tw = mean(input)\n",
    "    n = len(input)\n",
    "    print('n={0}'.format(n))\n",
    "    m = 1 #взял из методички\n",
    "    return sqrt(sum(pow(tw_i - mean_tw, 2) for tw_i in tw) / (m * (n - 1)))\n",
    "\n",
    "sq_mean = squared_mean(tw)\n",
    "print('среднеквадратическое = {0}'.format(sq_mean))"
   ]
  },
  {
   "cell_type": "markdown",
   "metadata": {},
   "source": [
    "Пора исключать промахи. Сначала выпишем отклонение от среднего для каждого элемента выборки соответственно, а затем - номер и значение каждого выброшенного элемента и \"почищенную выборку\""
   ]
  },
  {
   "cell_type": "code",
   "execution_count": 8,
   "metadata": {
    "collapsed": false
   },
   "outputs": [
    {
     "name": "stdout",
     "output_type": "stream",
     "text": [
      "n=30\n",
      "Отклонение 0 элемента от среднего = 0.153333333333\n",
      "Отклонение 1 элемента от среднего = 0.453333333333\n",
      "Отклонение 2 элемента от среднего = 0.0466666666668\n",
      "Отклонение 3 элемента от среднего = 0.546666666667\n",
      "Отклонение 4 элемента от среднего = 0.0466666666668\n",
      "Отклонение 5 элемента от среднего = 0.146666666667\n",
      "Отклонение 6 элемента от среднего = 0.0533333333332\n",
      "Отклонение 7 элемента от среднего = 0.253333333333\n",
      "Отклонение 8 элемента от среднего = 0.146666666667\n",
      "Отклонение 9 элемента от среднего = 0.246666666667\n",
      "Отклонение 10 элемента от среднего = 0.153333333333\n",
      "Отклонение 11 элемента от среднего = 0.246666666667\n",
      "Отклонение 12 элемента от среднего = 0.353333333333\n",
      "Отклонение 13 элемента от среднего = 0.0533333333332\n",
      "Отклонение 14 элемента от среднего = 0.153333333333\n",
      "Отклонение 15 элемента от среднего = 0.0466666666668\n",
      "Отклонение 16 элемента от среднего = 0.0533333333332\n",
      "Отклонение 17 элемента от среднего = 0.246666666667\n",
      "Отклонение 18 элемента от среднего = 0.146666666667\n",
      "Отклонение 19 элемента от среднего = 0.246666666667\n",
      "Отклонение 20 элемента от среднего = 0.0533333333332\n",
      "Отклонение 21 элемента от среднего = 0.0466666666668\n",
      "Отклонение 22 элемента от среднего = 0.153333333333\n",
      "Отклонение 23 элемента от среднего = 0.0533333333332\n",
      "Отклонение 24 элемента от среднего = 0.253333333333\n",
      "Отклонение 25 элемента от среднего = 0.153333333333\n",
      "Отклонение 26 элемента от среднего = 0.0466666666668\n",
      "Отклонение 27 элемента от среднего = 0.146666666667\n",
      "Отклонение 28 элемента от среднего = 0.0466666666668\n",
      "Отклонение 29 элемента от среднего = 0.0533333333332\n",
      "[ 378.2  378.5  378.   377.5  378.   377.9  378.1  378.3  377.9  377.8\n",
      "  378.2  377.8  378.4  378.1  378.2  378.   378.1  377.8  377.9  377.8\n",
      "  378.1  378.   378.2  378.1  378.3  378.2  378.   377.9  378.   378.1]\n"
     ]
    }
   ],
   "source": [
    "mean_t = mean(tw)\n",
    "sq_mean = squared_mean(tw) #сигма тут\n",
    "\n",
    "indices = np.array([])\n",
    "\n",
    "for i in range(len(tw)):\n",
    "    dist_i = fabs(tw[i]-mean_t)\n",
    "    print(\"Отклонение {0} элемента от среднего = {1}\".format( i, dist_i))\n",
    "    if dist_i > sq_mean * 3:\n",
    "        print(\"Элемент#{0}({1}) вылетел!\".format(i, dist_i))\n",
    "        indices = np.append(indices, i)\n",
    "        \n",
    "tw = np.delete(tw, indices)\n",
    "print tw"
   ]
  },
  {
   "cell_type": "markdown",
   "metadata": {},
   "source": [
    "Посмотрим, как изменилось распределение(просто для наглядности)"
   ]
  },
  {
   "cell_type": "code",
   "execution_count": 9,
   "metadata": {
    "collapsed": false,
    "scrolled": true
   },
   "outputs": [
    {
     "data": {
      "image/png": "[encoded data removed]",
      "text/plain": [
       "<matplotlib.figure.Figure at 0x7f4cb4100d90>"
      ]
     },
     "metadata": {},
     "output_type": "display_data"
    }
   ],
   "source": [
    "%matplotlib inline\n",
    "plt.hist(tw, bins=len(tw));"
   ]
  },
  {
   "cell_type": "markdown",
   "metadata": {},
   "source": [
    "Тут можно пересчитать выборочное вреднее и среднее квадратичное, но так как выборка осталась прежней - я их пересчитывать не буду.\n",
    "Вместо этого перейдем сразу к оценке точности измерений ${\\sigma}_{\\sigma}$ по формуле (2.7) из методички"
   ]
  },
  {
   "cell_type": "code",
   "execution_count": 10,
   "metadata": {
    "collapsed": false
   },
   "outputs": [
    {
     "name": "stdout",
     "output_type": "stream",
     "text": [
      "n=30\n",
      "k=30\n",
      "Ошибка самого среднего квадратического отклонения(или оценка точности измерений)=0.0266379155352\n"
     ]
    }
   ],
   "source": [
    "def sigma_sigma(inputs):\n",
    "    sigma_t = squared_mean(inputs)\n",
    "    k = len(inputs)\n",
    "    print('k={0}'.format(k))\n",
    "    return sigma_t/sqrt(2*k)\n",
    "\n",
    "\n",
    "print('Ошибка самого среднего квадратического отклонения(или оценка точности измерений)={0}'.format(sigma_sigma(tw)))"
   ]
  },
  {
   "cell_type": "markdown",
   "metadata": {},
   "source": [
    "Теперь перейдем (ну наконец-то!) к определению закона распределения. Сначала посчитаем коэффициент вариации $v_{t_{w,k}}$"
   ]
  },
  {
   "cell_type": "code",
   "execution_count": 11,
   "metadata": {
    "collapsed": false
   },
   "outputs": [
    {
     "name": "stdout",
     "output_type": "stream",
     "text": [
      "n=30\n",
      "0.000545796126998\n"
     ]
    }
   ],
   "source": [
    "def variance(inputs):\n",
    "    sigma = squared_mean(inputs)\n",
    "    t = mean(inputs)\n",
    "    return sigma/t\n",
    "\n",
    "print(variance(tw))"
   ]
  },
  {
   "cell_type": "markdown",
   "metadata": {},
   "source": [
    "Раз у нас такое маленькое значение $v_{t_{w,k}}$, мы можем считать, что наша случайная величина распределена нормально. Но чтоб проверить все как надо, мы сейчас будем строить интервалы, и вот это вот все. Сначала запиливаем вариационный ряд(насколько я понял, это надо просто отсортировать выборку)"
   ]
  },
  {
   "cell_type": "code",
   "execution_count": 12,
   "metadata": {
    "collapsed": false
   },
   "outputs": [
    {
     "data": {
      "text/plain": [
       "array([ 377.5,  377.8,  377.8,  377.8,  377.8,  377.9,  377.9,  377.9,\n",
       "        377.9,  378. ,  378. ,  378. ,  378. ,  378. ,  378. ,  378.1,\n",
       "        378.1,  378.1,  378.1,  378.1,  378.1,  378.2,  378.2,  378.2,\n",
       "        378.2,  378.2,  378.3,  378.3,  378.4,  378.5])"
      ]
     },
     "execution_count": 12,
     "metadata": {},
     "output_type": "execute_result"
    }
   ],
   "source": [
    "tw.sort()\n",
    "tw"
   ]
  },
  {
   "cell_type": "markdown",
   "metadata": {},
   "source": [
    "Теперь посчитаем ориентировочную величину интервала $l_{t_{w,k}}$"
   ]
  },
  {
   "cell_type": "code",
   "execution_count": 13,
   "metadata": {
    "collapsed": false
   },
   "outputs": [
    {
     "name": "stdout",
     "output_type": "stream",
     "text": [
      "MAX = 378.5\n",
      "MIN = 377.5\n",
      "Длина интервала = 0.174617952919\n"
     ]
    }
   ],
   "source": [
    "def l_interval(inputs):\n",
    "    in_max = max(inputs)\n",
    "    in_min = min(inputs)\n",
    "    k = len(inputs)\n",
    "    return (in_max - in_min)/(1 + 3.2 * log(k, 10))\n",
    "\n",
    "print('MAX = {0}'.format(max(tw)))\n",
    "print('MIN = {0}'.format(min(tw)))\n",
    "print('Длина интервала = {0}'.format(l_interval(tw)))"
   ]
  },
  {
   "cell_type": "markdown",
   "metadata": {},
   "source": [
    "Округлим интервал до 0.17. Посчитаем, на сколько частей надо разбить нашу область:\n",
    "!!UPDATE: берем длину интервала 0.15, чтоб интервалов стало больше"
   ]
  },
  {
   "cell_type": "code",
   "execution_count": 15,
   "metadata": {
    "collapsed": false
   },
   "outputs": [
    {
     "name": "stdout",
     "output_type": "stream",
     "text": [
      "Количество интервалов = 6.66666666667\n",
      "Округляем до 7\n",
      "Итоговая длина интервала=0.142857142857\n"
     ]
    }
   ],
   "source": [
    "def count_interval(inputs, l):\n",
    "    in_max = max(inputs)\n",
    "    in_min = min(inputs)\n",
    "    return (in_max - in_min)/l\n",
    "\n",
    "intervals_count = count_interval(tw, 0.15)\n",
    "print('Количество интервалов = {0}'\\\n",
    "      .format(intervals_count))\n",
    "intervals_count = 7 #округляем\n",
    "print('Округляем до {0}'.format(7))\n",
    "intervals_length = (max(tw)-min(tw))/intervals_count\n",
    "print('Итоговая длина интервала={0}'.format(intervals_length))"
   ]
  },
  {
   "cell_type": "markdown",
   "metadata": {},
   "source": [
    "Сейчас я выведу список из 6 интервалов"
   ]
  },
  {
   "cell_type": "code",
   "execution_count": 19,
   "metadata": {
    "collapsed": false
   },
   "outputs": [
    {
     "name": "stdout",
     "output_type": "stream",
     "text": [
      "Интервалы = [[ 377.5   377.65]\n",
      " [ 377.65  377.8 ]\n",
      " [ 377.8   377.95]\n",
      " [ 377.95  378.1 ]\n",
      " [ 378.1   378.25]\n",
      " [ 378.25  378.4 ]\n",
      " [ 378.4   378.5 ]]\n"
     ]
    }
   ],
   "source": [
    "def generate_intervals(inputs, count, int_len):\n",
    "    arr = np.zeros((count,2))\n",
    "   # print arr\n",
    "    in_min = min(inputs)\n",
    "    in_max = max(inputs)\n",
    "  #  length = int_len\n",
    "    length = 0.15\n",
    "    for i in range( 0, count-1 ):\n",
    "        arr[i] = [in_min + length * i, in_min + length * (i+1)]\n",
    "   #     print arr\n",
    "    arr[count-1] = [arr[count-2][1], in_max]\n",
    "    return arr\n",
    "\n",
    "intervals = generate_intervals(tw, intervals_count, intervals_length)  \n",
    "print('Интервалы = {0}'.format(intervals))"
   ]
  },
  {
   "cell_type": "markdown",
   "metadata": {},
   "source": [
    "Теперь выведем количество элементов $m_i$, попадающих в каждый соответствующий интервал(с учетом того, что элемент на границе считается за 1/2)"
   ]
  },
  {
   "cell_type": "code",
   "execution_count": 25,
   "metadata": {
    "collapsed": false
   },
   "outputs": [
    {
     "name": "stdout",
     "output_type": "stream",
     "text": [
      "Количество элементов в интервалах=[ 1.   2.   6.   9.   8.   2.5  1.5]\n"
     ]
    }
   ],
   "source": [
    "def calculate_count(inputs, intervals, intervals_count):\n",
    "    count = np.zeros(intervals_count)\n",
    "    for i in range(0, len(count)):\n",
    "        c = 0.\n",
    "        interval_min = intervals[i][0]\n",
    "        interval_max = intervals[i][1]\n",
    "        for point in inputs:\n",
    "            if point < interval_max and point > interval_min:\n",
    "                c = c + 1\n",
    "            else:\n",
    "                if point == interval_max or point == interval_min:\n",
    "                    if i == 0 and point == interval_min or i == len(count)-1 and point == interval_max:\n",
    "                        c = c + 1\n",
    "                    else:\n",
    "                        c = c + 0.5\n",
    "        count[i] = c\n",
    "    return count\n",
    "                    \n",
    "        \n",
    "count_array = calculate_count(tw, intervals, intervals_count)\n",
    "print('Количество элементов в интервалах={0}'.format(count_array))"
   ]
  },
  {
   "cell_type": "markdown",
   "metadata": {},
   "source": [
    "Теперь посчитаем ${\\omega}_i=\\frac{m_i}{k}$"
   ]
  },
  {
   "cell_type": "code",
   "execution_count": 26,
   "metadata": {
    "collapsed": false
   },
   "outputs": [
    {
     "name": "stdout",
     "output_type": "stream",
     "text": [
      "Соответствующие частоты = [ 0.03333333  0.06666667  0.2         0.3         0.26666667  0.08333333\n",
      "  0.05      ]\n"
     ]
    }
   ],
   "source": [
    "def calculate_omega(count_in_intervals, input_length):\n",
    "    omega = count_in_intervals / input_length\n",
    "    return omega\n",
    "\n",
    "omegas = calculate_omega(count_array, len(tw))\n",
    "print('Соответствующие частоты = {0}'.format(omegas))"
   ]
  },
  {
   "cell_type": "markdown",
   "metadata": {},
   "source": [
    "Ну, осталось посчитать статистическую плотность распределения $f(t_{w,k})$ (которая идет самая первая в методичке, и ещё в таблице есть отдельная колонка)"
   ]
  },
  {
   "cell_type": "code",
   "execution_count": 22,
   "metadata": {
    "collapsed": false
   },
   "outputs": [
    {
     "name": "stdout",
     "output_type": "stream",
     "text": [
      "f = [ 0.11666667  0.46666667  1.4         2.1         1.86666667  0.58333333\n",
      "  0.23333333]\n"
     ]
    }
   ],
   "source": [
    "def calculate_f(omegas, interval_length):\n",
    "    f = omegas / interval_length\n",
    "  #  f = np.zeros(len(omegas))\n",
    "  #  print f\n",
    "  #  for i in range(0, len(omegas)) : \n",
    "  #      f[i] = omegas[i] / interval_length\n",
    "    return f\n",
    "\n",
    "f_simple = calculate_f(omegas, intervals_length)\n",
    "print('f = {0}'.format(f_simple))"
   ]
  },
  {
   "cell_type": "markdown",
   "metadata": {},
   "source": [
    "Теперь бахнем гистограмму"
   ]
  },
  {
   "cell_type": "code",
   "execution_count": 27,
   "metadata": {
    "collapsed": false
   },
   "outputs": [
    {
     "data": {
      "image/png": "[encoded data removed]",
      "text/plain": [
       "<matplotlib.figure.Figure at 0x7f4cb4034d10>"
      ]
     },
     "metadata": {},
     "output_type": "display_data"
    }
   ],
   "source": [
    "%matplotlib inline\n",
    "\n",
    "x = [interval[0] for interval in intervals]\n",
    "plt.xlim([min(x),max(x)])\n",
    "plt.hist(x, bins=7, weights=f_simple);\n",
    "plt.gca().get_xaxis().get_major_formatter().set_useOffset(False)\n"
   ]
  },
  {
   "cell_type": "markdown",
   "metadata": {},
   "source": [
    "Ебанем равномерное распределение (функция плотности $f(t_{w,k})=\\frac{1}{b-a}$)."
   ]
  },
  {
   "cell_type": "code",
   "execution_count": 28,
   "metadata": {
    "collapsed": false
   },
   "outputs": [
    {
     "data": {
      "image/png": "[encoded data removed]",
      "text/plain": [
       "<matplotlib.figure.Figure at 0x7f4cb3d36390>"
      ]
     },
     "metadata": {},
     "output_type": "display_data"
    }
   ],
   "source": [
    "a = min(x)\n",
    "b = max(x)\n",
    "\n",
    "x_uniform = np.array([a, b])\n",
    "y_uniform = np.ones(2)  / (b-a)\n",
    "\n",
    "plt.plot(x_uniform, y_uniform, linewidth=2, color='r')\n",
    "plt.xlim([min(x),max(x)])\n",
    "plt.gca().get_xaxis().get_major_formatter().set_useOffset(False)\n",
    "\n"
   ]
  },
  {
   "cell_type": "markdown",
   "metadata": {},
   "source": [
    "Теперь запилим нормальное распределение:"
   ]
  },
  {
   "cell_type": "code",
   "execution_count": 29,
   "metadata": {
    "collapsed": false
   },
   "outputs": [
    {
     "name": "stdout",
     "output_type": "stream",
     "text": [
      "Мат. ожидаение=378.046666667\n",
      "Стандартное отклонение=0.202868320729\n"
     ]
    },
    {
     "data": {
      "image/png": "[encoded data removed]",
      "text/plain": [
       "<matplotlib.figure.Figure at 0x7f4cb3ce3790>"
      ]
     },
     "metadata": {},
     "output_type": "display_data"
    }
   ],
   "source": [
    "mean_twk = mean(tw)\n",
    "var = np.var(tw)\n",
    "sig = sqrt(var)\n",
    "\n",
    "print(\"Мат. ожидаение={0}\".format(mean_twk))\n",
    "print(\"Стандартное отклонение={0}\".format(sig))\n",
    "\n",
    "def normal_dist(x, mu, sigma):\n",
    "    return 1/(sigma \\\n",
    "              * np.sqrt(2 * np.pi)) * np.exp( - (x - mu)**2 / (2 * sigma**2))\n",
    "\n",
    "x_normal = np.linspace(tw.min(), tw.max(), 50)\n",
    "y_normal = normal_dist(x_normal, mean_twk, sig)\n",
    "\n",
    "plt.plot(x_normal, y_normal, linewidth=2, color='g')\n",
    "plt.xlim([min(tw),max(tw)])\n",
    "plt.gca().get_xaxis().get_major_formatter().set_useOffset(False)"
   ]
  },
  {
   "cell_type": "markdown",
   "metadata": {
    "collapsed": true
   },
   "source": [
    "Ну, нам осталось взять ещё какое-нибудь распределение. Пусть будет распределение Гумбеля(Примечание - константа 0.5772 - постоянная Эйлера - отличается от той, что в методичке(0.5776). Я брал из википедии, где про нее есть отдельная статья ). Из формул (2.17) в методичке мы можем вывести значения параметров распределения $\\alpha$ и $\\beta$:"
   ]
  },
  {
   "cell_type": "markdown",
   "metadata": {},
   "source": [
    "$\\begin{equation} \n",
    "    \\beta = \\sqrt{\\frac{{\\sigma}^{2}_{t_{w,k}}}{1.645}} \\\\\n",
    "    \\alpha = \\overline{t_{w,k}} - 0.5772\\beta\n",
    "\\end{equation}$"
   ]
  },
  {
   "cell_type": "code",
   "execution_count": 30,
   "metadata": {
    "collapsed": false
   },
   "outputs": [
    {
     "name": "stdout",
     "output_type": "stream",
     "text": [
      "Среднее = 378.046666667\n",
      "Дисперсия = 0.0411555555556\n",
      "Мода = 378\n",
      "alpha=377.955369436\n",
      "beta=0.158172610795\n"
     ]
    },
    {
     "data": {
      "image/png": "[encoded data removed]",
      "text/plain": [
       "<matplotlib.figure.Figure at 0x7f4cb3c484d0>"
      ]
     },
     "metadata": {},
     "output_type": "display_data"
    }
   ],
   "source": [
    "mean_gumbel = mean(tw)\n",
    "var_gumbel = np.var(tw)\n",
    "mode_gumbel = 378\n",
    "\n",
    "#beta_gumbel = (mean_gumbel - mode_gumbel) / 0.5772\n",
    "#alpha_gumbel = mode_gumbel\n",
    "beta_gumbel = sqrt(var_gumbel/1.645)\n",
    "alpha_gumbel = mean_gumbel - 0.5772*beta_gumbel\n",
    "print(\"Среднее = {0}\".format(mean_gumbel))\n",
    "print(\"Дисперсия = {0}\".format(var_gumbel))\n",
    "print(\"Мода = {}\".format(mode_gumbel))\n",
    "print('alpha={0}'.format(alpha_gumbel))\n",
    "print('beta={0}'.format(beta_gumbel))\n",
    "def gumbel_dist(x,alpha,beta):\n",
    "    z = (x-alpha)/beta\n",
    "    return np.exp(-z-np.exp(-z))/beta\n",
    "\n",
    "x_gumbel = np.linspace(tw.min(), tw.max(), 50)\n",
    "y_gumbel = gumbel_dist(x_gumbel, alpha_gumbel,beta_gumbel)\n",
    "\n",
    "\n",
    "\n",
    "plt.plot(x_gumbel, y_gumbel, linewidth=2, color='black')\n",
    "plt.xlim([min(tw),max(tw)])\n",
    "plt.gca().get_xaxis().get_major_formatter().set_useOffset(False)"
   ]
  },
  {
   "cell_type": "markdown",
   "metadata": {
    "collapsed": true
   },
   "source": [
    "Теперь нарисуем все на одном графике"
   ]
  },
  {
   "cell_type": "code",
   "execution_count": 31,
   "metadata": {
    "collapsed": false
   },
   "outputs": [
    {
     "data": {
      "image/png": "[encoded data removed]",
      "text/plain": [
       "<matplotlib.figure.Figure at 0x7f4cb3c52450>"
      ]
     },
     "metadata": {},
     "output_type": "display_data"
    }
   ],
   "source": [
    "plt.xlim([min(x),max(x)])\n",
    "plt.hist(x, bins=7, weights=f_simple);\n",
    "plt.plot(x_uniform, y_uniform, linewidth=2, color='r', label=\"Uniform\")\n",
    "plt.plot(x_normal, y_normal, linewidth=2, color='g', label=\"Normal\")\n",
    "plt.plot(x_gumbel, y_gumbel, linewidth=2, color='black', label=\"Gumbel\")\n",
    "plt.legend(bbox_to_anchor=(1.05, 1), loc=2, borderaxespad=0.)\n",
    "\n",
    "plt.gca().get_xaxis().get_major_formatter().set_useOffset(False)"
   ]
  },
  {
   "cell_type": "markdown",
   "metadata": {},
   "source": [
    "Теперь будем считать критерии согласия, но перед этим посчитаем значения всех распределений на построенных 6 интервалах"
   ]
  },
  {
   "cell_type": "code",
   "execution_count": 32,
   "metadata": {
    "collapsed": false
   },
   "outputs": [
    {
     "name": "stdout",
     "output_type": "stream",
     "text": [
      "[[ 377.5   377.65]\n",
      " [ 377.65  377.8 ]\n",
      " [ 377.8   377.95]\n",
      " [ 377.95  378.1 ]\n",
      " [ 378.1   378.25]\n",
      " [ 378.25  378.4 ]\n",
      " [ 378.4   378.5 ]]\n"
     ]
    }
   ],
   "source": [
    "print intervals"
   ]
  },
  {
   "cell_type": "markdown",
   "metadata": {},
   "source": [
    "Будем считать, что нормальное распределение и распределение Гумбеля на каждом интервале равны значению функции плотности в центре интервала"
   ]
  },
  {
   "cell_type": "code",
   "execution_count": 33,
   "metadata": {
    "collapsed": false
   },
   "outputs": [
    {
     "name": "stdout",
     "output_type": "stream",
     "text": [
      "[377.57499999999999, 377.72500000000002, 377.875, 378.02499999999998, 378.17500000000001, 378.32499999999999, 378.44999999999999]\n"
     ]
    }
   ],
   "source": [
    "interval_centers = [(interval[0] + interval[1] ) / 2 \\\n",
    "                    for interval in intervals]\n",
    "print interval_centers"
   ]
  },
  {
   "cell_type": "markdown",
   "metadata": {},
   "source": [
    "Выпишем ещё раз значения $f(t_{w,k})$"
   ]
  },
  {
   "cell_type": "code",
   "execution_count": 34,
   "metadata": {
    "collapsed": false
   },
   "outputs": [
    {
     "name": "stdout",
     "output_type": "stream",
     "text": [
      "Значения плотности на гистограмме = [ 0.11666667  0.46666667  1.4         2.1         1.86666667  0.58333333\n",
      "  0.23333333]\n"
     ]
    }
   ],
   "source": [
    "print('Значения плотности на гистограмме = {0}'.format(f_simple))"
   ]
  },
  {
   "cell_type": "markdown",
   "metadata": {},
   "source": [
    "Теперь выпишем значения плотности нормального распределения $f_N(t_{w,k})$"
   ]
  },
  {
   "cell_type": "code",
   "execution_count": 35,
   "metadata": {
    "collapsed": false
   },
   "outputs": [
    {
     "name": "stdout",
     "output_type": "stream",
     "text": [
      "Плотность нормального распределения = [ 0.13179233  0.55945424  1.37469864  1.95532486  1.60989973  0.76726824\n",
      "  0.27249984]\n"
     ]
    }
   ],
   "source": [
    "y_interval_normal = normal_dist(interval_centers, mean_twk, sig)\n",
    "print('Плотность нормального распределения = {0}'.format(y_interval_normal))"
   ]
  },
  {
   "cell_type": "markdown",
   "metadata": {},
   "source": [
    "Равномерное $f_U(t_{w,k})$ (только два значения, но на самом деле оно везде одинаково)"
   ]
  },
  {
   "cell_type": "code",
   "execution_count": 36,
   "metadata": {
    "collapsed": false
   },
   "outputs": [
    {
     "name": "stdout",
     "output_type": "stream",
     "text": [
      "[ 1.11111111  1.11111111]\n"
     ]
    }
   ],
   "source": [
    "print(y_uniform)"
   ]
  },
  {
   "cell_type": "markdown",
   "metadata": {},
   "source": [
    "Осталось распределение Гумбеля $f_G(t_{w,k})$"
   ]
  },
  {
   "cell_type": "code",
   "execution_count": 37,
   "metadata": {
    "collapsed": false
   },
   "outputs": [
    {
     "name": "stdout",
     "output_type": "stream",
     "text": [
      "Плотности распределения Гумбеля = [  1.08401028e-03   3.71517250e-01   1.99377561e+00   2.13817793e+00\n",
      "   1.22885361e+00   5.54637153e-01   2.65290253e-01]\n"
     ]
    }
   ],
   "source": [
    "y_interval_gumbel = gumbel_dist(interval_centers, alpha_gumbel,beta_gumbel)\n",
    "print('Плотности распределения Гумбеля = {0}'.format(y_interval_gumbel))"
   ]
  },
  {
   "cell_type": "markdown",
   "metadata": {
    "collapsed": true
   },
   "source": [
    "Теперь посчитаем разницы между $f(t_{w,k})$ и другими функциями на каждом интервале, и найдем $D_k$"
   ]
  },
  {
   "cell_type": "code",
   "execution_count": 38,
   "metadata": {
    "collapsed": false
   },
   "outputs": [
    {
     "name": "stdout",
     "output_type": "stream",
     "text": [
      "|f-fN| = [ 0.01512566  0.09278757  0.02530136  0.14467514  0.25676693  0.18393491\n",
      "  0.03916651]\n",
      "|f-fU| = [ 0.99444444  0.64444444  0.28888889  0.98888889  0.75555556  0.52777778\n",
      "  0.87777778]\n",
      "|f-fG| = [ 0.11558266  0.09514942  0.59377561  0.03817793  0.63781306  0.02869618\n",
      "  0.03195692]\n",
      "Dk = max|f-fN| = 0.256766931781\n",
      "Dk = max|f-fU| = 0.994444444444\n",
      "Dk = max|f-fG| = 0.63781305519\n"
     ]
    }
   ],
   "source": [
    "dist_normal = np.fabs(f_simple-y_interval_normal)\n",
    "print('|f-fN| = {0}'.format(dist_normal))\n",
    "dist_uniform = np.fabs(f_simple-y_uniform[0])\n",
    "print('|f-fU| = {0}'.format(dist_uniform))\n",
    "dist_gumbel = np.fabs(f_simple-y_interval_gumbel)\n",
    "print('|f-fG| = {0}'.format(dist_gumbel))\n",
    "max_dist_normal = np.max(dist_normal)\n",
    "max_dist_uniform = np.max(dist_uniform)\n",
    "max_dist_gumbel = np.max(dist_gumbel)\n",
    "print('Dk = max|f-fN| = {0}'.format(max_dist_normal))\n",
    "print('Dk = max|f-fU| = {0}'.format(max_dist_uniform))\n",
    "print('Dk = max|f-fG| = {0}'.format(max_dist_gumbel))"
   ]
  },
  {
   "cell_type": "markdown",
   "metadata": {},
   "source": [
    "Теперь посчитаем $z=D_k\\sqrt{k}$"
   ]
  },
  {
   "cell_type": "code",
   "execution_count": 39,
   "metadata": {
    "collapsed": false
   },
   "outputs": [
    {
     "name": "stdout",
     "output_type": "stream",
     "text": [
      "z для нормального распределения = 1.40637040558\n",
      "z для равномерного распределения = 5.44679654408\n",
      "z для распределения Гумбеля = 3.49344597799\n"
     ]
    }
   ],
   "source": [
    "k = len(tw)\n",
    "z_normal = max_dist_normal * sqrt(k)\n",
    "z_uniform = max_dist_uniform * sqrt(k)\n",
    "z_gumbel = max_dist_gumbel * sqrt(k)\n",
    "print('z для нормального распределения = {0}'.format(z_normal))\n",
    "print('z для равномерного распределения = {0}'.format(z_uniform))\n",
    "print('z для распределения Гумбеля = {0}'.format(z_gumbel))"
   ]
  },
  {
   "cell_type": "markdown",
   "metadata": {},
   "source": [
    "Теперь по графику на рисунке (2.2) методички определим величины $K(z)$. Для нормального распределения $K(z)\\approx0.18$, а для всех остальных распределений $K(z)\\approx0$. Такие значения говорят о том, что мы не можем считать нашу выборку распределенной равномерно и по закону Гумбеля, и не можем данным критерием согласия определить, подчиняется ли наша выборка нормальному закону"
   ]
  },
  {
   "cell_type": "markdown",
   "metadata": {},
   "source": [
    "Посчитаем теперь коэффициент Стьюдента. Число степеней свободы $n_c=k-1=30$. Значение доверительной вероятности $P=0.95$, ${\\bigtriangleup}_n=\\pm2\\sigma$. Согласно таблице в приложении к методичке, коэффициент Стьюдента $t_p=2.042$ "
   ]
  },
  {
   "cell_type": "markdown",
   "metadata": {},
   "source": [
    "Теперь определим границы доверительного интервала с помощью неравенства Чебышева. Формула: ${\\bigtriangleup}_{t_{w.k}} = \\pm {\\gamma}_p {\\sigma}_{t_{w,k}}$. Коэффициент Чебышева ${\\gamma}_p$ по таблице 2.9 методички равен 4.4. "
   ]
  },
  {
   "cell_type": "code",
   "execution_count": 40,
   "metadata": {
    "collapsed": false
   },
   "outputs": [
    {
     "name": "stdout",
     "output_type": "stream",
     "text": [
      "Сигма = 0.202868320729\n"
     ]
    }
   ],
   "source": [
    "sigma_twk = sqrt(np.var(tw))\n",
    "print('Сигма = {0}'.format(sigma_twk))"
   ]
  },
  {
   "cell_type": "code",
   "execution_count": 41,
   "metadata": {
    "collapsed": false
   },
   "outputs": [
    {
     "name": "stdout",
     "output_type": "stream",
     "text": [
      "Дельта = +-0.892620611209\n"
     ]
    }
   ],
   "source": [
    "delta_twk = 4.4 * sigma_twk\n",
    "print('Дельта = +-{0}'.format(delta_twk))"
   ]
  },
  {
   "cell_type": "code",
   "execution_count": null,
   "metadata": {
    "collapsed": true
   },
   "outputs": [],
   "source": []
  }
 ],
 "metadata": {
  "kernelspec": {
   "display_name": "Python 2",
   "language": "python",
   "name": "python2"
  },
  "language_info": {
   "codemirror_mode": {
    "name": "ipython",
    "version": 2
   },
   "file_extension": ".py",
   "mimetype": "text/x-python",
   "name": "python",
   "nbconvert_exporter": "python",
   "pygments_lexer": "ipython2",
   "version": "2.7.12"
  }
 },
 "nbformat": 4,
 "nbformat_minor": 1
}
