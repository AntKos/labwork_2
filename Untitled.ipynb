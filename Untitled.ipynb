{
 "cells": [
  {
   "cell_type": "code",
   "execution_count": 79,
   "metadata": {
    "collapsed": false
   },
   "outputs": [],
   "source": [
    "import numpy as np\n",
    "import matplotlib.pyplot as plt\n",
    "from math import sqrt\n",
    "from math import fabs\n",
    "from IPython.display import Math"
   ]
  },
  {
   "cell_type": "code",
   "execution_count": 69,
   "metadata": {
    "collapsed": false
   },
   "outputs": [],
   "source": [
    "#выборка-выборочка, 30 элементов\n",
    "def inputs():\n",
    "    return np.array([378.2, 378.5, 378, 377.5, 378, 377.9, 378.1,\\\n",
    "           378.3, 377.9, 377.8, 378.2, 377.8, 378.4, 378.1,\\\n",
    "           378.2, 378, 378.1, 377.8, 377.9, 377.8, 378.1, 378,\\\n",
    "           378.2, 378.1, 378.3, 378.2, 378, 377.9, 378, 378.1])"
   ]
  },
  {
   "cell_type": "markdown",
   "metadata": {},
   "source": [
    "Тут у нас лежит наша выборка $t_{w,i}$"
   ]
  },
  {
   "cell_type": "code",
   "execution_count": 87,
   "metadata": {
    "collapsed": false
   },
   "outputs": [
    {
     "name": "stdout",
     "output_type": "stream",
     "text": [
      "[ 378.2  378.5  378.   377.5  378.   377.9  378.1  378.3  377.9  377.8\n",
      "  378.2  377.8  378.4  378.1  378.2  378.   378.1  377.8  377.9  377.8\n",
      "  378.1  378.   378.2  378.1  378.3  378.2  378.   377.9  378.   378.1]\n"
     ]
    }
   ],
   "source": [
    "tw = inputs()\n",
    "#Math('t_{w,i}=')\n",
    "print tw"
   ]
  },
  {
   "cell_type": "markdown",
   "metadata": {},
   "source": [
    "Ниже - приблизительное распределение частот"
   ]
  },
  {
   "cell_type": "code",
   "execution_count": 71,
   "metadata": {
    "collapsed": false
   },
   "outputs": [
    {
     "data": {
      "image/png": "[encoded data removed]",
      "text/plain": [
       "<matplotlib.figure.Figure at 0x7f853d81e350>"
      ]
     },
     "metadata": {},
     "output_type": "display_data"
    }
   ],
   "source": [
    "%matplotlib inline\n",
    "plt.hist(tw, bins=len(tw));"
   ]
  },
  {
   "cell_type": "markdown",
   "metadata": {},
   "source": [
    "mean() будет считать среднее арифметическое $\\overline{t_w}$"
   ]
  },
  {
   "cell_type": "code",
   "execution_count": 72,
   "metadata": {
    "collapsed": true
   },
   "outputs": [],
   "source": [
    "def mean(input):\n",
    "    n = len(input)\n",
    "    return sum(input) / n"
   ]
  },
  {
   "cell_type": "markdown",
   "metadata": {},
   "source": [
    "А вот и оно"
   ]
  },
  {
   "cell_type": "code",
   "execution_count": 73,
   "metadata": {
    "collapsed": false
   },
   "outputs": [
    {
     "data": {
      "text/plain": [
       "378.04666666666679"
      ]
     },
     "execution_count": 73,
     "metadata": {},
     "output_type": "execute_result"
    }
   ],
   "source": [
    "mean(tw)"
   ]
  },
  {
   "cell_type": "markdown",
   "metadata": {},
   "source": [
    "Теперь введем функцию для среднего квадратического отклонения ${\\sigma}_{t_w}$, а потом посчитаем и его:"
   ]
  },
  {
   "cell_type": "code",
   "execution_count": 74,
   "metadata": {
    "collapsed": false
   },
   "outputs": [
    {
     "name": "stdout",
     "output_type": "stream",
     "text": [
      "0.206336406491\n"
     ]
    }
   ],
   "source": [
    "def squared_mean(input):\n",
    "    mean_tw = mean(input)\n",
    "    n = len(input)\n",
    "    m = 1 #взял из методички\n",
    "    return sqrt(sum(pow(tw_i - mean_tw, 2) for tw_i in tw) / (m * (n - 1)))\n",
    "\n",
    "sq_mean = squared_mean(tw)\n",
    "print sq_mean"
   ]
  },
  {
   "cell_type": "markdown",
   "metadata": {},
   "source": [
    "Пора исключать промахи. Сначала выпишем отклонение от среднего для каждого элемента выборки соответственно, а затем - номер и значение каждого выброшенного элемента и \"почищенную выборку\""
   ]
  },
  {
   "cell_type": "code",
   "execution_count": 75,
   "metadata": {
    "collapsed": false
   },
   "outputs": [
    {
     "name": "stdout",
     "output_type": "stream",
     "text": [
      "0 element distance = 0.153333333333\n",
      "1 element distance = 0.453333333333\n",
      "2 element distance = 0.0466666666668\n",
      "3 element distance = 0.546666666667\n",
      "4 element distance = 0.0466666666668\n",
      "5 element distance = 0.146666666667\n",
      "6 element distance = 0.0533333333332\n",
      "7 element distance = 0.253333333333\n",
      "8 element distance = 0.146666666667\n",
      "9 element distance = 0.246666666667\n",
      "10 element distance = 0.153333333333\n",
      "11 element distance = 0.246666666667\n",
      "12 element distance = 0.353333333333\n",
      "13 element distance = 0.0533333333332\n",
      "14 element distance = 0.153333333333\n",
      "15 element distance = 0.0466666666668\n",
      "16 element distance = 0.0533333333332\n",
      "17 element distance = 0.246666666667\n",
      "18 element distance = 0.146666666667\n",
      "19 element distance = 0.246666666667\n",
      "20 element distance = 0.0533333333332\n",
      "21 element distance = 0.0466666666668\n",
      "22 element distance = 0.153333333333\n",
      "23 element distance = 0.0533333333332\n",
      "24 element distance = 0.253333333333\n",
      "25 element distance = 0.153333333333\n",
      "26 element distance = 0.0466666666668\n",
      "27 element distance = 0.146666666667\n",
      "28 element distance = 0.0466666666668\n",
      "29 element distance = 0.0533333333332\n",
      "[ 378.2  378.5  378.   377.5  378.   377.9  378.1  378.3  377.9  377.8\n",
      "  378.2  377.8  378.4  378.1  378.2  378.   378.1  377.8  377.9  377.8\n",
      "  378.1  378.   378.2  378.1  378.3  378.2  378.   377.9  378.   378.1]\n"
     ]
    }
   ],
   "source": [
    "mean_t = mean(tw)\n",
    "sq_mean = squared_mean(tw) #сигма тут\n",
    "\n",
    "indices = np.array([])\n",
    "\n",
    "for i in range(len(tw)):\n",
    "    dist_i = fabs(tw[i]-mean_t)\n",
    "    print(\"{0} element distance = {1}\".format( i, dist_i))\n",
    "    if dist_i > sq_mean * 3:\n",
    "        print(\"element#{0}({1}) is out\".format(i, dist_i))\n",
    "        indices = np.append(indices, i)\n",
    "        \n",
    "tw = np.delete(tw, indices)\n",
    "print tw"
   ]
  },
  {
   "cell_type": "markdown",
   "metadata": {},
   "source": [
    "Посмотрим, как изменилось распределение(просто для наглядности)"
   ]
  },
  {
   "cell_type": "code",
   "execution_count": 76,
   "metadata": {
    "collapsed": false,
    "scrolled": true
   },
   "outputs": [
    {
     "data": {
      "image/png": "[encoded data removed]",
      "text/plain": [
       "<matplotlib.figure.Figure at 0x7f8540177990>"
      ]
     },
     "metadata": {},
     "output_type": "display_data"
    }
   ],
   "source": [
    "%matplotlib inline\n",
    "plt.hist(tw, bins=len(tw));"
   ]
  },
  {
   "cell_type": "markdown",
   "metadata": {},
   "source": [
    "Тут можно пересчитать выборочное вреднее и среднее квадратичное, но так как выборка осталась прежней - я их пересчитывать не буду.\n",
    "Вместо этого перейдем сразу к оценке точности измерений ${\\sigma}_{\\sigma}$ по формуле (2.7) из методички"
   ]
  },
  {
   "cell_type": "code",
   "execution_count": 77,
   "metadata": {
    "collapsed": false
   },
   "outputs": [
    {
     "name": "stdout",
     "output_type": "stream",
     "text": [
      "0.0266379155352\n"
     ]
    }
   ],
   "source": [
    "def sigma_sigma(inputs):\n",
    "    sigma_t = squared_mean(inputs)\n",
    "    k = len(inputs)\n",
    "    return sigma_t/sqrt(2*k)\n",
    "\n",
    "\n",
    "print sigma_sigma(tw)"
   ]
  },
  {
   "cell_type": "markdown",
   "metadata": {},
   "source": [
    "Теперь перейдем (ну наконец-то!) к определению закона распределения. Сначала посчитаем коэффициент вариации $v_{t_{w,k}}$"
   ]
  },
  {
   "cell_type": "code",
   "execution_count": 89,
   "metadata": {
    "collapsed": false
   },
   "outputs": [
    {
     "name": "stdout",
     "output_type": "stream",
     "text": [
      "0.000545796126998\n"
     ]
    }
   ],
   "source": [
    "def variance(inputs):\n",
    "    sigma = squared_mean(inputs)\n",
    "    t = mean(inputs)\n",
    "    return sigma/t\n",
    "\n",
    "print(variance(tw))"
   ]
  },
  {
   "cell_type": "code",
   "execution_count": null,
   "metadata": {
    "collapsed": true
   },
   "outputs": [],
   "source": []
  }
 ],
 "metadata": {
  "kernelspec": {
   "display_name": "Python 2",
   "language": "python",
   "name": "python2"
  },
  "language_info": {
   "codemirror_mode": {
    "name": "ipython",
    "version": 2
   },
   "file_extension": ".py",
   "mimetype": "text/x-python",
   "name": "python",
   "nbconvert_exporter": "python",
   "pygments_lexer": "ipython2",
   "version": "2.7.12"
  }
 },
 "nbformat": 4,
 "nbformat_minor": 1
}
