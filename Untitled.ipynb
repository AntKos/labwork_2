{
 "cells": [
  {
   "cell_type": "code",
   "execution_count": 91,
   "metadata": {
    "collapsed": false
   },
   "outputs": [],
   "source": [
    "import numpy as np\n",
    "import matplotlib.pyplot as plt\n",
    "from math import sqrt\n",
    "from math import fabs\n",
    "from math import log\n",
    "from IPython.display import Math"
   ]
  },
  {
   "cell_type": "code",
   "execution_count": 69,
   "metadata": {
    "collapsed": false
   },
   "outputs": [],
   "source": [
    "#выборка-выборочка, 30 элементов\n",
    "def inputs():\n",
    "    return np.array([378.2, 378.5, 378, 377.5, 378, 377.9, 378.1,\\\n",
    "           378.3, 377.9, 377.8, 378.2, 377.8, 378.4, 378.1,\\\n",
    "           378.2, 378, 378.1, 377.8, 377.9, 377.8, 378.1, 378,\\\n",
    "           378.2, 378.1, 378.3, 378.2, 378, 377.9, 378, 378.1])"
   ]
  },
  {
   "cell_type": "markdown",
   "metadata": {},
   "source": [
    "Тут у нас лежит наша выборка $t_{w,i}$"
   ]
  },
  {
   "cell_type": "code",
   "execution_count": 87,
   "metadata": {
    "collapsed": false
   },
   "outputs": [
    {
     "name": "stdout",
     "output_type": "stream",
     "text": [
      "[ 378.2  378.5  378.   377.5  378.   377.9  378.1  378.3  377.9  377.8\n",
      "  378.2  377.8  378.4  378.1  378.2  378.   378.1  377.8  377.9  377.8\n",
      "  378.1  378.   378.2  378.1  378.3  378.2  378.   377.9  378.   378.1]\n"
     ]
    }
   ],
   "source": [
    "tw = inputs()\n",
    "#Math('t_{w,i}=')\n",
    "print tw"
   ]
  },
  {
   "cell_type": "markdown",
   "metadata": {},
   "source": [
    "Ниже - приблизительное распределение частот"
   ]
  },
  {
   "cell_type": "code",
   "execution_count": 71,
   "metadata": {
    "collapsed": false
   },
   "outputs": [
    {
     "data": {
      "image/png": "[encoded data removed]",
      "text/plain": [
       "<matplotlib.figure.Figure at 0x7f853d81e350>"
      ]
     },
     "metadata": {},
     "output_type": "display_data"
    }
   ],
   "source": [
    "%matplotlib inline\n",
    "plt.hist(tw, bins=len(tw));"
   ]
  },
  {
   "cell_type": "markdown",
   "metadata": {},
   "source": [
    "mean() будет считать среднее арифметическое $\\overline{t_w}$"
   ]
  },
  {
   "cell_type": "code",
   "execution_count": 72,
   "metadata": {
    "collapsed": true
   },
   "outputs": [],
   "source": [
    "def mean(input):\n",
    "    n = len(input)\n",
    "    return sum(input) / n"
   ]
  },
  {
   "cell_type": "markdown",
   "metadata": {},
   "source": [
    "А вот и оно"
   ]
  },
  {
   "cell_type": "code",
   "execution_count": 98,
   "metadata": {
    "collapsed": false
   },
   "outputs": [
    {
     "name": "stdout",
     "output_type": "stream",
     "text": [
      "среднее=378.046666667\n"
     ]
    }
   ],
   "source": [
    "print('среднее={0}'.format(mean(tw)))"
   ]
  },
  {
   "cell_type": "markdown",
   "metadata": {},
   "source": [
    "Теперь введем функцию для среднего квадратического отклонения ${\\sigma}_{t_w}$, а потом посчитаем и его:"
   ]
  },
  {
   "cell_type": "code",
   "execution_count": 97,
   "metadata": {
    "collapsed": false
   },
   "outputs": [
    {
     "name": "stdout",
     "output_type": "stream",
     "text": [
      "n=30\n",
      "среднеквадратическое = 0.206336406491\n"
     ]
    }
   ],
   "source": [
    "def squared_mean(input):\n",
    "    mean_tw = mean(input)\n",
    "    n = len(input)\n",
    "    print('n={0}'.format(n))\n",
    "    m = 1 #взял из методички\n",
    "    return sqrt(sum(pow(tw_i - mean_tw, 2) for tw_i in tw) / (m * (n - 1)))\n",
    "\n",
    "sq_mean = squared_mean(tw)\n",
    "print('среднеквадратическое = {0}'.format(sq_mean))"
   ]
  },
  {
   "cell_type": "markdown",
   "metadata": {},
   "source": [
    "Пора исключать промахи. Сначала выпишем отклонение от среднего для каждого элемента выборки соответственно, а затем - номер и значение каждого выброшенного элемента и \"почищенную выборку\""
   ]
  },
  {
   "cell_type": "code",
   "execution_count": 99,
   "metadata": {
    "collapsed": false
   },
   "outputs": [
    {
     "name": "stdout",
     "output_type": "stream",
     "text": [
      "n=30\n",
      "Отклонение 0 элемента от среднего = 0.546666666667\n",
      "Отклонение 1 элемента от среднего = 0.246666666667\n",
      "Отклонение 2 элемента от среднего = 0.246666666667\n",
      "Отклонение 3 элемента от среднего = 0.246666666667\n",
      "Отклонение 4 элемента от среднего = 0.246666666667\n",
      "Отклонение 5 элемента от среднего = 0.146666666667\n",
      "Отклонение 6 элемента от среднего = 0.146666666667\n",
      "Отклонение 7 элемента от среднего = 0.146666666667\n",
      "Отклонение 8 элемента от среднего = 0.146666666667\n",
      "Отклонение 9 элемента от среднего = 0.0466666666668\n",
      "Отклонение 10 элемента от среднего = 0.0466666666668\n",
      "Отклонение 11 элемента от среднего = 0.0466666666668\n",
      "Отклонение 12 элемента от среднего = 0.0466666666668\n",
      "Отклонение 13 элемента от среднего = 0.0466666666668\n",
      "Отклонение 14 элемента от среднего = 0.0466666666668\n",
      "Отклонение 15 элемента от среднего = 0.0533333333332\n",
      "Отклонение 16 элемента от среднего = 0.0533333333332\n",
      "Отклонение 17 элемента от среднего = 0.0533333333332\n",
      "Отклонение 18 элемента от среднего = 0.0533333333332\n",
      "Отклонение 19 элемента от среднего = 0.0533333333332\n",
      "Отклонение 20 элемента от среднего = 0.0533333333332\n",
      "Отклонение 21 элемента от среднего = 0.153333333333\n",
      "Отклонение 22 элемента от среднего = 0.153333333333\n",
      "Отклонение 23 элемента от среднего = 0.153333333333\n",
      "Отклонение 24 элемента от среднего = 0.153333333333\n",
      "Отклонение 25 элемента от среднего = 0.153333333333\n",
      "Отклонение 26 элемента от среднего = 0.253333333333\n",
      "Отклонение 27 элемента от среднего = 0.253333333333\n",
      "Отклонение 28 элемента от среднего = 0.353333333333\n",
      "Отклонение 29 элемента от среднего = 0.453333333333\n",
      "[ 377.5  377.8  377.8  377.8  377.8  377.9  377.9  377.9  377.9  378.   378.\n",
      "  378.   378.   378.   378.   378.1  378.1  378.1  378.1  378.1  378.1\n",
      "  378.2  378.2  378.2  378.2  378.2  378.3  378.3  378.4  378.5]\n"
     ]
    }
   ],
   "source": [
    "mean_t = mean(tw)\n",
    "sq_mean = squared_mean(tw) #сигма тут\n",
    "\n",
    "indices = np.array([])\n",
    "\n",
    "for i in range(len(tw)):\n",
    "    dist_i = fabs(tw[i]-mean_t)\n",
    "    print(\"Отклонение {0} элемента от среднего = {1}\".format( i, dist_i))\n",
    "    if dist_i > sq_mean * 3:\n",
    "        print(\"Элемент#{0}({1}) вылетел!\".format(i, dist_i))\n",
    "        indices = np.append(indices, i)\n",
    "        \n",
    "tw = np.delete(tw, indices)\n",
    "print tw"
   ]
  },
  {
   "cell_type": "markdown",
   "metadata": {},
   "source": [
    "Посмотрим, как изменилось распределение(просто для наглядности)"
   ]
  },
  {
   "cell_type": "code",
   "execution_count": 76,
   "metadata": {
    "collapsed": false,
    "scrolled": true
   },
   "outputs": [
    {
     "data": {
      "image/png": "[encoded data removed]",
      "text/plain": [
       "<matplotlib.figure.Figure at 0x7f8540177990>"
      ]
     },
     "metadata": {},
     "output_type": "display_data"
    }
   ],
   "source": [
    "%matplotlib inline\n",
    "plt.hist(tw, bins=len(tw));"
   ]
  },
  {
   "cell_type": "markdown",
   "metadata": {},
   "source": [
    "Тут можно пересчитать выборочное вреднее и среднее квадратичное, но так как выборка осталась прежней - я их пересчитывать не буду.\n",
    "Вместо этого перейдем сразу к оценке точности измерений ${\\sigma}_{\\sigma}$ по формуле (2.7) из методички"
   ]
  },
  {
   "cell_type": "code",
   "execution_count": 103,
   "metadata": {
    "collapsed": false
   },
   "outputs": [
    {
     "name": "stdout",
     "output_type": "stream",
     "text": [
      "n=30\n",
      "k=30\n",
      "Ошибка самого среднего квадратического отклонения(или оценка точности измерений)=0.0266379155352\n"
     ]
    }
   ],
   "source": [
    "def sigma_sigma(inputs):\n",
    "    sigma_t = squared_mean(inputs)\n",
    "    k = len(inputs)\n",
    "    print('k={0}'.format(k))\n",
    "    return sigma_t/sqrt(2*k)\n",
    "\n",
    "\n",
    "print('Ошибка самого среднего квадратического отклонения(или оценка точности измерений)={0}'.format(sigma_sigma(tw)))"
   ]
  },
  {
   "cell_type": "markdown",
   "metadata": {},
   "source": [
    "Теперь перейдем (ну наконец-то!) к определению закона распределения. Сначала посчитаем коэффициент вариации $v_{t_{w,k}}$"
   ]
  },
  {
   "cell_type": "code",
   "execution_count": 89,
   "metadata": {
    "collapsed": false
   },
   "outputs": [
    {
     "name": "stdout",
     "output_type": "stream",
     "text": [
      "0.000545796126998\n"
     ]
    }
   ],
   "source": [
    "def variance(inputs):\n",
    "    sigma = squared_mean(inputs)\n",
    "    t = mean(inputs)\n",
    "    return sigma/t\n",
    "\n",
    "print(variance(tw))"
   ]
  },
  {
   "cell_type": "markdown",
   "metadata": {},
   "source": [
    "Раз у нас такое маленькое значение $v_{t_{w,k}}$, мы можем считать, что наша случайная величина распределена нормально. Но чтоб проверить все как надо, мы сейчас будем строить интервалы, и вот это вот все. Сначала запиливаем вариационный ряд(насколько я понял, это надо просто отсортировать выборку)"
   ]
  },
  {
   "cell_type": "code",
   "execution_count": 111,
   "metadata": {
    "collapsed": false
   },
   "outputs": [
    {
     "data": {
      "text/plain": [
       "array([ 377.5,  377.8,  377.8,  377.8,  377.8,  377.9,  377.9,  377.9,\n",
       "        377.9,  378. ,  378. ,  378. ,  378. ,  378. ,  378. ,  378.1,\n",
       "        378.1,  378.1,  378.1,  378.1,  378.1,  378.2,  378.2,  378.2,\n",
       "        378.2,  378.2,  378.3,  378.3,  378.4,  378.5])"
      ]
     },
     "execution_count": 111,
     "metadata": {},
     "output_type": "execute_result"
    }
   ],
   "source": [
    "tw.sort()\n",
    "tw"
   ]
  },
  {
   "cell_type": "markdown",
   "metadata": {},
   "source": [
    "Теперь посчитаем ориентировочную величину интервала $l_{t_{w,k}}$"
   ]
  },
  {
   "cell_type": "code",
   "execution_count": 106,
   "metadata": {
    "collapsed": false
   },
   "outputs": [
    {
     "name": "stdout",
     "output_type": "stream",
     "text": [
      "MAX = 378.5\n",
      "MIN = 377.5\n",
      "Длина интервала = 0.174617952919\n"
     ]
    }
   ],
   "source": [
    "def l_interval(inputs):\n",
    "    in_max = max(inputs)\n",
    "    in_min = min(inputs)\n",
    "    k = len(inputs)\n",
    "    return (in_max - in_min)/(1 + 3.2 * log(k, 10))\n",
    "\n",
    "print('MAX = {0}'.format(max(tw)))\n",
    "print('MIN = {0}'.format(min(tw)))\n",
    "print('Длина интервала = {0}'.format(l_interval(tw)))"
   ]
  },
  {
   "cell_type": "markdown",
   "metadata": {},
   "source": [
    "Округлим интервал до 0.17. Посчитаем, на сколько частей надо разбить нашу область:"
   ]
  },
  {
   "cell_type": "code",
   "execution_count": 164,
   "metadata": {
    "collapsed": false
   },
   "outputs": [
    {
     "name": "stdout",
     "output_type": "stream",
     "text": [
      "Количество интервалов = 5.88235294118\n",
      "Округляем до 6\n",
      "Итоговая длина интервала=0.166666666667\n"
     ]
    }
   ],
   "source": [
    "def count_interval(inputs, l):\n",
    "    in_max = max(inputs)\n",
    "    in_min = min(inputs)\n",
    "    return (in_max - in_min)/l\n",
    "\n",
    "intervals_count = count_interval(tw, 0.17)\n",
    "print('Количество интервалов = {0}'\\\n",
    "      .format(intervals_count))\n",
    "intervals_count = 6 #округляем\n",
    "print('Округляем до {0}'.format(6))\n",
    "intervals_length = (max(tw)-min(tw))/intervals_count\n",
    "print('Итоговая длина интервала={0}'.format(intervals_length))"
   ]
  },
  {
   "cell_type": "markdown",
   "metadata": {},
   "source": [
    "В методичке написано, что интервалов должно быть 8-12, но в той же самой методичке число интервалов в примере берется в зависимости от длины(которую я посчитал выше), поэтому я возьму 6 интервалов(округлив то, что насчитал).\n",
    "<br>\n",
    "Сейчас я выведу список из 6 интервалов\n"
   ]
  },
  {
   "cell_type": "code",
   "execution_count": 165,
   "metadata": {
    "collapsed": false
   },
   "outputs": [
    {
     "name": "stdout",
     "output_type": "stream",
     "text": [
      "Интервалы = [[ 377.5         377.66666667]\n",
      " [ 377.66666667  377.83333333]\n",
      " [ 377.83333333  378.        ]\n",
      " [ 378.          378.16666667]\n",
      " [ 378.16666667  378.33333333]\n",
      " [ 378.33333333  378.5       ]]\n"
     ]
    }
   ],
   "source": [
    "def generate_intervals(inputs, count, int_len):\n",
    "    arr = np.zeros((count,2))\n",
    "   # print arr\n",
    "    in_min = min(inputs)\n",
    "    in_max = max(inputs)\n",
    "    length = int_len\n",
    "    for i in range( 0, count ):\n",
    "        arr[i] = [in_min + length * i, in_min + length * (i+1)]\n",
    "   #     print arr\n",
    "    return arr\n",
    "\n",
    "intervals = generate_intervals(tw, 6, intervals_length)  \n",
    "print('Интервалы = {0}'.format(intervals))"
   ]
  },
  {
   "cell_type": "markdown",
   "metadata": {},
   "source": [
    "Теперь выведем количество элементов $m_i$, попадающих в каждый соответствующий интервал(с учетом того, что элемент на границе считается за 1/2)"
   ]
  },
  {
   "cell_type": "code",
   "execution_count": 160,
   "metadata": {
    "collapsed": false
   },
   "outputs": [
    {
     "name": "stdout",
     "output_type": "stream",
     "text": [
      "Количество элементов в интервалах=[ 0.5  4.   7.   9.   7.   1.5]\n"
     ]
    }
   ],
   "source": [
    "def calculate_count(inputs, intervals, intervals_count):\n",
    "    count = np.zeros(intervals_count)\n",
    "    for i in range(0, len(count)):\n",
    "        c = 0.\n",
    "        interval_min = intervals[i][0]\n",
    "        interval_max = intervals[i][1]\n",
    "        for point in inputs:\n",
    "            if point < interval_max and point > interval_min:\n",
    "                c = c + 1\n",
    "            else:\n",
    "                if point == interval_max or point == interval_min:\n",
    "                    c = c + 0.5\n",
    "        count[i] = c\n",
    "    return count\n",
    "                    \n",
    "        \n",
    "count_array = calculate_count(tw, intervals, intervals_count)\n",
    "print('Количество элементов в интервалах={0}'.format(count_array))"
   ]
  },
  {
   "cell_type": "markdown",
   "metadata": {},
   "source": [
    "Теперь посчитаем ${\\omega}_i=\\frac{m_i}{k}$"
   ]
  },
  {
   "cell_type": "code",
   "execution_count": 173,
   "metadata": {
    "collapsed": false
   },
   "outputs": [
    {
     "name": "stdout",
     "output_type": "stream",
     "text": [
      "Соответствующие частоты = [ 0.01666667  0.13333333  0.23333333  0.3         0.23333333  0.05      ]\n"
     ]
    }
   ],
   "source": [
    "def calculate_omega(count_in_intervals, input_length):\n",
    "    omega = count_in_intervals / input_length\n",
    "    return omega\n",
    "\n",
    "omegas = calculate_omega(count_array, len(tw))\n",
    "print('Соответствующие частоты = {0}'.format(omegas))"
   ]
  },
  {
   "cell_type": "markdown",
   "metadata": {},
   "source": [
    "Ну, осталось посчитать статистическую плотность распределения $f(t_{w,k})$ (которая идет самая первая в методичке, и ещё в таблице есть отдельная колонка)"
   ]
  },
  {
   "cell_type": "code",
   "execution_count": 174,
   "metadata": {
    "collapsed": false
   },
   "outputs": [
    {
     "name": "stdout",
     "output_type": "stream",
     "text": [
      "f = [ 0.1  0.8  1.4  1.8  1.4  0.3]\n"
     ]
    }
   ],
   "source": [
    "def calculate_f(omegas, interval_length):\n",
    "    f = omegas / interval_length\n",
    "  #  f = np.zeros(len(omegas))\n",
    "  #  print f\n",
    "  #  for i in range(0, len(omegas)) : \n",
    "  #      f[i] = omegas[i] / interval_length\n",
    "    return f\n",
    "\n",
    "f_simple = calculate_f(omegas, intervals_length)\n",
    "print('f = {0}'.format(f_simple))"
   ]
  },
  {
   "cell_type": "markdown",
   "metadata": {},
   "source": [
    "Теперь бахнем гистограмму"
   ]
  },
  {
   "cell_type": "code",
   "execution_count": 191,
   "metadata": {
    "collapsed": false
   },
   "outputs": [
    {
     "data": {
      "image/png": "[encoded data removed]",
      "text/plain": [
       "<matplotlib.figure.Figure at 0x7f853da54550>"
      ]
     },
     "metadata": {},
     "output_type": "display_data"
    }
   ],
   "source": [
    "%matplotlib inline\n",
    "x = [interval[0] for interval in intervals]\n",
    "plt.hist(x, bins=6, weights=f_simple);"
   ]
  },
  {
   "cell_type": "code",
   "execution_count": null,
   "metadata": {
    "collapsed": true
   },
   "outputs": [],
   "source": []
  }
 ],
 "metadata": {
  "kernelspec": {
   "display_name": "Python 2",
   "language": "python",
   "name": "python2"
  },
  "language_info": {
   "codemirror_mode": {
    "name": "ipython",
    "version": 2
   },
   "file_extension": ".py",
   "mimetype": "text/x-python",
   "name": "python",
   "nbconvert_exporter": "python",
   "pygments_lexer": "ipython2",
   "version": "2.7.12"
  }
 },
 "nbformat": 4,
 "nbformat_minor": 1
}
